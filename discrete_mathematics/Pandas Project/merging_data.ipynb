{
  "nbformat": 4,
  "nbformat_minor": 0,
  "metadata": {
    "colab": {
      "name": "dados.ipynb",
      "provenance": [],
      "collapsed_sections": [],
      "include_colab_link": true
    },
    "kernelspec": {
      "name": "python3",
      "display_name": "Python 3"
    }
  },
  "cells": [
    {
      "cell_type": "markdown",
      "metadata": {
        "id": "view-in-github",
        "colab_type": "text"
      },
      "source": [
        "<a href=\"https://colab.research.google.com/github/paulodcsc/discrete_mathematics/blob/main/merging_data.ipynb\" target=\"_parent\"><img src=\"https://colab.research.google.com/assets/colab-badge.svg\" alt=\"Open In Colab\"/></a>"
      ]
    },
    {
      "cell_type": "code",
      "metadata": {
        "colab": {
          "base_uri": "https://localhost:8080/"
        },
        "id": "UV4zFPUI2Uqq",
        "outputId": "23c18edf-cbd1-41cd-9d49-3fb5490fa8b6"
      },
      "source": [
        "import pandas as pd\r\n",
        "\r\n",
        "aluno = pd.read_csv('https://raw.githubusercontent.com/paulodcsc/discrete_mathematics/main/Base-de-Alunos5.csv')\r\n",
        "dengue = pd.read_csv('https://raw.githubusercontent.com/paulodcsc/discrete_mathematics/main/Base-de-Dengue5_1.csv')\r\n",
        "onibus = pd.read_csv('https://raw.githubusercontent.com/paulodcsc/discrete_mathematics/main/Base-de-Onibus5_1.csv')\r\n",
        "\r\n",
        "print(aluno) \r\n",
        "\r\n",
        "nome_aluno = aluno['Nome'].tolist()\r\n",
        "nome_dengue = dengue['Nome'].tolist()\r\n",
        "nome_onibus = onibus['Nome'].tolist()\r\n",
        "\r\n",
        "#vetor com todos os nomes\r\n",
        "\r\n",
        "#for para oercorrer o vetor de todos os nomes\r\n",
        "\r\n",
        "#split em cada elemento\r\n",
        "\r\n",
        "#verificar se tá correto if\r\n",
        "\r\n",
        "\r\n",
        "\r\n",
        "\r\n",
        "\r\n",
        "\r\n",
        "\r\n"
      ],
      "execution_count": 12,
      "outputs": [
        {
          "output_type": "stream",
          "text": [
            "      ID                       Nome  ... Sexo  Data de Nascimento\n",
            "0    212        ABNER ANDRADE SILVA  ...    m       9/9/2814 0:00\n",
            "1     47                 ADEMIR A F  ...    m      3/25/5223 0:00\n",
            "2    251         ADREY AQUINO SOUSA  ...    m   6-0-7811 00:00:00\n",
            "3    261        AKA ABREU FRANCISCO  ...    f  79-1-2000 00:00:00\n",
            "4    148             ALESSANDRA C S  ...    f      9/24/1988 0:00\n",
            "..   ...                        ...  ...  ...                 ...\n",
            "274   24                  WANDERSOO  ...    m       3/1/2801 0:00\n",
            "275   53  WEBERSON NASCIMENTO GOMES  ...    m      1/29/2006 0:00\n",
            "276  208                WESLLEY S P  ...    m      10/3/6998 0:00\n",
            "277   18         YARIA JATIAS SILRJ  ...    f      8/22/2517 0:00\n",
            "278  155     YONUS XOSIMNE VALEPTIL  ...    m       2/8/2000 0:00\n",
            "\n",
            "[279 rows x 6 columns]\n"
          ],
          "name": "stdout"
        }
      ]
    },
    {
      "cell_type": "code",
      "metadata": {
        "id": "VN8FIk3GQC2W"
      },
      "source": [
        ""
      ],
      "execution_count": null,
      "outputs": []
    }
  ]
}